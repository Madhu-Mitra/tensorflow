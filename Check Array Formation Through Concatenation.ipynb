{
 "cells": [
  {
   "cell_type": "markdown",
   "metadata": {},
   "source": [
    "You are given an array of distinct integers arr and an array of integer arrays pieces, where the integers in pieces are distinct. Your goal is to form arr by concatenating the arrays in pieces in any order. However, you are not allowed to reorder the integers in each array pieces[i].\n",
    "\n",
    "Return true if it is possible to form the array arr from pieces. Otherwise, return false.\n",
    "\n",
    " \n",
    "\n",
    "Example 1:\n",
    "\n",
    "Input: arr = [85], pieces = [[85]]\n",
    "Output: true\n",
    "Example 2:\n",
    "\n",
    "Input: arr = [15,88], pieces = [[88],[15]]\n",
    "Output: true\n",
    "Explanation: Concatenate [15] then [88]\n",
    "Example 3:\n",
    "\n",
    "Input: arr = [49,18,16], pieces = [[16,18,49]]\n",
    "Output: false\n",
    "Explanation: Even though the numbers match, we cannot reorder pieces[0].\n",
    "Example 4:\n",
    "\n",
    "Input: arr = [91,4,64,78], pieces = [[78],[4,64],[91]]\n",
    "Output: true\n",
    "Explanation: Concatenate [91] then [4,64] then [78]\n",
    "Example 5:\n",
    "\n",
    "Input: arr = [1,3,5,7], pieces = [[2,4,6,8]]\n",
    "Output: false"
   ]
  },
  {
   "cell_type": "code",
   "execution_count": null,
   "metadata": {},
   "outputs": [],
   "source": [
    "class Solution:\n",
    "    def canFormArray(self, arr: List[int], pieces: List[List[int]]) -> bool:\n",
    "        \n",
    "        temp = { piece[0]: piece for piece in pieces }\n",
    "       \n",
    "        result = []\n",
    "        \n",
    "        \n",
    "        for number in arr:\n",
    "            \n",
    "            result += temp.get( number, [] )\n",
    "            \n",
    "        \n",
    "        \n",
    "        return result == arr\n",
    "        \n",
    "        "
   ]
  }
 ],
 "metadata": {
  "kernelspec": {
   "display_name": "Python 3",
   "language": "python",
   "name": "python3"
  },
  "language_info": {
   "codemirror_mode": {
    "name": "ipython",
    "version": 3
   },
   "file_extension": ".py",
   "mimetype": "text/x-python",
   "name": "python",
   "nbconvert_exporter": "python",
   "pygments_lexer": "ipython3",
   "version": "3.8.5"
  }
 },
 "nbformat": 4,
 "nbformat_minor": 4
}
