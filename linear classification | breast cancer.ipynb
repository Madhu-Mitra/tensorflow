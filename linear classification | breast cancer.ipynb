{
 "cells": [
  {
   "cell_type": "code",
   "execution_count": 1,
   "metadata": {},
   "outputs": [],
   "source": [
    "from sklearn.datasets import load_breast_cancer\n",
    "import tensorflow as tf"
   ]
  },
  {
   "cell_type": "code",
   "execution_count": 2,
   "metadata": {},
   "outputs": [],
   "source": [
    "data=load_breast_cancer()"
   ]
  },
  {
   "cell_type": "code",
   "execution_count": 3,
   "metadata": {},
   "outputs": [
    {
     "data": {
      "text/plain": [
       "dict_keys(['data', 'target', 'frame', 'target_names', 'DESCR', 'feature_names', 'filename'])"
      ]
     },
     "execution_count": 3,
     "metadata": {},
     "output_type": "execute_result"
    }
   ],
   "source": [
    "data.keys()"
   ]
  },
  {
   "cell_type": "code",
   "execution_count": 4,
   "metadata": {},
   "outputs": [
    {
     "data": {
      "text/plain": [
       "(569, 30)"
      ]
     },
     "execution_count": 4,
     "metadata": {},
     "output_type": "execute_result"
    }
   ],
   "source": [
    "data.data.shape"
   ]
  },
  {
   "cell_type": "code",
   "execution_count": 5,
   "metadata": {},
   "outputs": [
    {
     "data": {
      "text/plain": [
       "array([0, 0, 0, 0, 0, 0, 0, 0, 0, 0, 0, 0, 0, 0, 0, 0, 0, 0, 0, 1, 1, 1,\n",
       "       0, 0, 0, 0, 0, 0, 0, 0, 0, 0, 0, 0, 0, 0, 0, 1, 0, 0, 0, 0, 0, 0,\n",
       "       0, 0, 1, 0, 1, 1, 1, 1, 1, 0, 0, 1, 0, 0, 1, 1, 1, 1, 0, 1, 0, 0,\n",
       "       1, 1, 1, 1, 0, 1, 0, 0, 1, 0, 1, 0, 0, 1, 1, 1, 0, 0, 1, 0, 0, 0,\n",
       "       1, 1, 1, 0, 1, 1, 0, 0, 1, 1, 1, 0, 0, 1, 1, 1, 1, 0, 1, 1, 0, 1,\n",
       "       1, 1, 1, 1, 1, 1, 1, 0, 0, 0, 1, 0, 0, 1, 1, 1, 0, 0, 1, 0, 1, 0,\n",
       "       0, 1, 0, 0, 1, 1, 0, 1, 1, 0, 1, 1, 1, 1, 0, 1, 1, 1, 1, 1, 1, 1,\n",
       "       1, 1, 0, 1, 1, 1, 1, 0, 0, 1, 0, 1, 1, 0, 0, 1, 1, 0, 0, 1, 1, 1,\n",
       "       1, 0, 1, 1, 0, 0, 0, 1, 0, 1, 0, 1, 1, 1, 0, 1, 1, 0, 0, 1, 0, 0,\n",
       "       0, 0, 1, 0, 0, 0, 1, 0, 1, 0, 1, 1, 0, 1, 0, 0, 0, 0, 1, 1, 0, 0,\n",
       "       1, 1, 1, 0, 1, 1, 1, 1, 1, 0, 0, 1, 1, 0, 1, 1, 0, 0, 1, 0, 1, 1,\n",
       "       1, 1, 0, 1, 1, 1, 1, 1, 0, 1, 0, 0, 0, 0, 0, 0, 0, 0, 0, 0, 0, 0,\n",
       "       0, 0, 1, 1, 1, 1, 1, 1, 0, 1, 0, 1, 1, 0, 1, 1, 0, 1, 0, 0, 1, 1,\n",
       "       1, 1, 1, 1, 1, 1, 1, 1, 1, 1, 1, 0, 1, 1, 0, 1, 0, 1, 1, 1, 1, 1,\n",
       "       1, 1, 1, 1, 1, 1, 1, 1, 1, 0, 1, 1, 1, 0, 1, 0, 1, 1, 1, 1, 0, 0,\n",
       "       0, 1, 1, 1, 1, 0, 1, 0, 1, 0, 1, 1, 1, 0, 1, 1, 1, 1, 1, 1, 1, 0,\n",
       "       0, 0, 1, 1, 1, 1, 1, 1, 1, 1, 1, 1, 1, 0, 0, 1, 0, 0, 0, 1, 0, 0,\n",
       "       1, 1, 1, 1, 1, 0, 1, 1, 1, 1, 1, 0, 1, 1, 1, 0, 1, 1, 0, 0, 1, 1,\n",
       "       1, 1, 1, 1, 0, 1, 1, 1, 1, 1, 1, 1, 0, 1, 1, 1, 1, 1, 0, 1, 1, 0,\n",
       "       1, 1, 1, 1, 1, 1, 1, 1, 1, 1, 1, 1, 0, 1, 0, 0, 1, 0, 1, 1, 1, 1,\n",
       "       1, 0, 1, 1, 0, 1, 0, 1, 1, 0, 1, 0, 1, 1, 1, 1, 1, 1, 1, 1, 0, 0,\n",
       "       1, 1, 1, 1, 1, 1, 0, 1, 1, 1, 1, 1, 1, 1, 1, 1, 1, 0, 1, 1, 1, 1,\n",
       "       1, 1, 1, 0, 1, 0, 1, 1, 0, 1, 1, 1, 1, 1, 0, 0, 1, 0, 1, 0, 1, 1,\n",
       "       1, 1, 1, 0, 1, 1, 0, 1, 0, 1, 0, 0, 1, 1, 1, 0, 1, 1, 1, 1, 1, 1,\n",
       "       1, 1, 1, 1, 1, 0, 1, 0, 0, 1, 1, 1, 1, 1, 1, 1, 1, 1, 1, 1, 1, 1,\n",
       "       1, 1, 1, 1, 1, 1, 1, 1, 1, 1, 1, 1, 0, 0, 0, 0, 0, 0, 1])"
      ]
     },
     "execution_count": 5,
     "metadata": {},
     "output_type": "execute_result"
    }
   ],
   "source": [
    "data.target"
   ]
  },
  {
   "cell_type": "code",
   "execution_count": 6,
   "metadata": {},
   "outputs": [
    {
     "data": {
      "text/plain": [
       "array(['mean radius', 'mean texture', 'mean perimeter', 'mean area',\n",
       "       'mean smoothness', 'mean compactness', 'mean concavity',\n",
       "       'mean concave points', 'mean symmetry', 'mean fractal dimension',\n",
       "       'radius error', 'texture error', 'perimeter error', 'area error',\n",
       "       'smoothness error', 'compactness error', 'concavity error',\n",
       "       'concave points error', 'symmetry error',\n",
       "       'fractal dimension error', 'worst radius', 'worst texture',\n",
       "       'worst perimeter', 'worst area', 'worst smoothness',\n",
       "       'worst compactness', 'worst concavity', 'worst concave points',\n",
       "       'worst symmetry', 'worst fractal dimension'], dtype='<U23')"
      ]
     },
     "execution_count": 6,
     "metadata": {},
     "output_type": "execute_result"
    }
   ],
   "source": [
    "data.feature_names"
   ]
  },
  {
   "cell_type": "code",
   "execution_count": null,
   "metadata": {},
   "outputs": [],
   "source": []
  },
  {
   "cell_type": "code",
   "execution_count": 7,
   "metadata": {},
   "outputs": [],
   "source": [
    "from sklearn.model_selection import train_test_split\n",
    "\n",
    "\n",
    "# split the data into train and test sets\n",
    "\n",
    "X_train, X_test, y_train, y_test = train_test_split(data.data, data.target, test_size=0.33)\n",
    "N, D = X_train.shape"
   ]
  },
  {
   "cell_type": "code",
   "execution_count": 8,
   "metadata": {},
   "outputs": [],
   "source": [
    "model = tf.keras.models.Sequential([\n",
    "  tf.keras.layers.Input(shape=(D,)),\n",
    "  tf.keras.layers.Dense(1, activation='sigmoid')\n",
    "])"
   ]
  },
  {
   "cell_type": "code",
   "execution_count": 9,
   "metadata": {},
   "outputs": [],
   "source": [
    "model.compile(optimizer='adam',\n",
    "              loss='binary_crossentropy',\n",
    "              metrics=['accuracy'])"
   ]
  },
  {
   "cell_type": "code",
   "execution_count": 10,
   "metadata": {},
   "outputs": [
    {
     "name": "stdout",
     "output_type": "stream",
     "text": [
      "Epoch 1/105\n",
      "12/12 [==============================] - 0s 19ms/step - loss: 36.6503 - accuracy: 0.3885 - val_loss: 33.7665 - val_accuracy: 0.3404\n",
      "Epoch 2/105\n",
      "12/12 [==============================] - 0s 3ms/step - loss: 27.2312 - accuracy: 0.3885 - val_loss: 24.1283 - val_accuracy: 0.3351\n",
      "Epoch 3/105\n",
      "12/12 [==============================] - 0s 2ms/step - loss: 17.9372 - accuracy: 0.3858 - val_loss: 14.6098 - val_accuracy: 0.3351\n",
      "Epoch 4/105\n",
      "12/12 [==============================] - 0s 3ms/step - loss: 8.8579 - accuracy: 0.3832 - val_loss: 5.9143 - val_accuracy: 0.4149\n",
      "Epoch 5/105\n",
      "12/12 [==============================] - 0s 2ms/step - loss: 3.8902 - accuracy: 0.6037 - val_loss: 3.6709 - val_accuracy: 0.6489\n",
      "Epoch 6/105\n",
      "12/12 [==============================] - 0s 3ms/step - loss: 3.4915 - accuracy: 0.6955 - val_loss: 3.6763 - val_accuracy: 0.6702\n",
      "Epoch 7/105\n",
      "12/12 [==============================] - 0s 2ms/step - loss: 3.3415 - accuracy: 0.6772 - val_loss: 3.4637 - val_accuracy: 0.6489\n",
      "Epoch 8/105\n",
      "12/12 [==============================] - 0s 2ms/step - loss: 3.1301 - accuracy: 0.6535 - val_loss: 3.4427 - val_accuracy: 0.6436\n",
      "Epoch 9/105\n",
      "12/12 [==============================] - 0s 3ms/step - loss: 3.1019 - accuracy: 0.6378 - val_loss: 3.4134 - val_accuracy: 0.6330\n",
      "Epoch 10/105\n",
      "12/12 [==============================] - 0s 3ms/step - loss: 3.0205 - accuracy: 0.6614 - val_loss: 3.2924 - val_accuracy: 0.6649\n",
      "Epoch 11/105\n",
      "12/12 [==============================] - 0s 3ms/step - loss: 2.9744 - accuracy: 0.6719 - val_loss: 3.2155 - val_accuracy: 0.6755\n",
      "Epoch 12/105\n",
      "12/12 [==============================] - 0s 2ms/step - loss: 2.9063 - accuracy: 0.6745 - val_loss: 3.1692 - val_accuracy: 0.6702\n",
      "Epoch 13/105\n",
      "12/12 [==============================] - 0s 2ms/step - loss: 2.8408 - accuracy: 0.6850 - val_loss: 3.0760 - val_accuracy: 0.6862\n",
      "Epoch 14/105\n",
      "12/12 [==============================] - 0s 3ms/step - loss: 2.7731 - accuracy: 0.6929 - val_loss: 3.0455 - val_accuracy: 0.6702\n",
      "Epoch 15/105\n",
      "12/12 [==============================] - 0s 2ms/step - loss: 2.7251 - accuracy: 0.6929 - val_loss: 2.9678 - val_accuracy: 0.6915\n",
      "Epoch 16/105\n",
      "12/12 [==============================] - 0s 3ms/step - loss: 2.6698 - accuracy: 0.7087 - val_loss: 2.8931 - val_accuracy: 0.6915\n",
      "Epoch 17/105\n",
      "12/12 [==============================] - 0s 4ms/step - loss: 2.6090 - accuracy: 0.7192 - val_loss: 2.8234 - val_accuracy: 0.6968\n",
      "Epoch 18/105\n",
      "12/12 [==============================] - 0s 4ms/step - loss: 2.5793 - accuracy: 0.7218 - val_loss: 2.7880 - val_accuracy: 0.6968\n",
      "Epoch 19/105\n",
      "12/12 [==============================] - 0s 3ms/step - loss: 2.5031 - accuracy: 0.7323 - val_loss: 2.7113 - val_accuracy: 0.7074\n",
      "Epoch 20/105\n",
      "12/12 [==============================] - 0s 3ms/step - loss: 2.4667 - accuracy: 0.7480 - val_loss: 2.6507 - val_accuracy: 0.7074\n",
      "Epoch 21/105\n",
      "12/12 [==============================] - 0s 3ms/step - loss: 2.4303 - accuracy: 0.7402 - val_loss: 2.6411 - val_accuracy: 0.7181\n",
      "Epoch 22/105\n",
      "12/12 [==============================] - 0s 3ms/step - loss: 2.3906 - accuracy: 0.7507 - val_loss: 2.5442 - val_accuracy: 0.7340\n",
      "Epoch 23/105\n",
      "12/12 [==============================] - 0s 3ms/step - loss: 2.3319 - accuracy: 0.7612 - val_loss: 2.5149 - val_accuracy: 0.7234\n",
      "Epoch 24/105\n",
      "12/12 [==============================] - 0s 3ms/step - loss: 2.2899 - accuracy: 0.7507 - val_loss: 2.4688 - val_accuracy: 0.7234\n",
      "Epoch 25/105\n",
      "12/12 [==============================] - 0s 2ms/step - loss: 2.2607 - accuracy: 0.7533 - val_loss: 2.4019 - val_accuracy: 0.7234\n",
      "Epoch 26/105\n",
      "12/12 [==============================] - 0s 3ms/step - loss: 2.2100 - accuracy: 0.7559 - val_loss: 2.3788 - val_accuracy: 0.7340\n",
      "Epoch 27/105\n",
      "12/12 [==============================] - 0s 3ms/step - loss: 2.1797 - accuracy: 0.7559 - val_loss: 2.3407 - val_accuracy: 0.7340\n",
      "Epoch 28/105\n",
      "12/12 [==============================] - 0s 2ms/step - loss: 2.1277 - accuracy: 0.7585 - val_loss: 2.2498 - val_accuracy: 0.7500\n",
      "Epoch 29/105\n",
      "12/12 [==============================] - 0s 2ms/step - loss: 2.1066 - accuracy: 0.7612 - val_loss: 2.2089 - val_accuracy: 0.7553\n",
      "Epoch 30/105\n",
      "12/12 [==============================] - 0s 3ms/step - loss: 2.0625 - accuracy: 0.7612 - val_loss: 2.2394 - val_accuracy: 0.7394\n",
      "Epoch 31/105\n",
      "12/12 [==============================] - 0s 3ms/step - loss: 2.0663 - accuracy: 0.7664 - val_loss: 2.1188 - val_accuracy: 0.7606\n",
      "Epoch 32/105\n",
      "12/12 [==============================] - 0s 2ms/step - loss: 2.0049 - accuracy: 0.7664 - val_loss: 2.1501 - val_accuracy: 0.7394\n",
      "Epoch 33/105\n",
      "12/12 [==============================] - 0s 3ms/step - loss: 1.9585 - accuracy: 0.7664 - val_loss: 2.0463 - val_accuracy: 0.7713\n",
      "Epoch 34/105\n",
      "12/12 [==============================] - 0s 2ms/step - loss: 1.9071 - accuracy: 0.7717 - val_loss: 2.0252 - val_accuracy: 0.7713\n",
      "Epoch 35/105\n",
      "12/12 [==============================] - 0s 2ms/step - loss: 1.8744 - accuracy: 0.7822 - val_loss: 1.9911 - val_accuracy: 0.7713\n",
      "Epoch 36/105\n",
      "12/12 [==============================] - 0s 3ms/step - loss: 1.8460 - accuracy: 0.7848 - val_loss: 1.9388 - val_accuracy: 0.7766\n",
      "Epoch 37/105\n",
      "12/12 [==============================] - 0s 2ms/step - loss: 1.8124 - accuracy: 0.7874 - val_loss: 1.9155 - val_accuracy: 0.7766\n",
      "Epoch 38/105\n",
      "12/12 [==============================] - 0s 2ms/step - loss: 1.7814 - accuracy: 0.7900 - val_loss: 1.8773 - val_accuracy: 0.7766\n",
      "Epoch 39/105\n",
      "12/12 [==============================] - 0s 2ms/step - loss: 1.7571 - accuracy: 0.7953 - val_loss: 1.8536 - val_accuracy: 0.7819\n",
      "Epoch 40/105\n",
      "12/12 [==============================] - 0s 2ms/step - loss: 1.7451 - accuracy: 0.8031 - val_loss: 1.7886 - val_accuracy: 0.7926\n",
      "Epoch 41/105\n",
      "12/12 [==============================] - 0s 3ms/step - loss: 1.7083 - accuracy: 0.8058 - val_loss: 1.7939 - val_accuracy: 0.7819\n",
      "Epoch 42/105\n",
      "12/12 [==============================] - 0s 3ms/step - loss: 1.6815 - accuracy: 0.8189 - val_loss: 1.7344 - val_accuracy: 0.7926\n",
      "Epoch 43/105\n",
      "12/12 [==============================] - 0s 2ms/step - loss: 1.6558 - accuracy: 0.8163 - val_loss: 1.7087 - val_accuracy: 0.7926\n",
      "Epoch 44/105\n",
      "12/12 [==============================] - 0s 3ms/step - loss: 1.6333 - accuracy: 0.8215 - val_loss: 1.6744 - val_accuracy: 0.7979\n",
      "Epoch 45/105\n",
      "12/12 [==============================] - 0s 3ms/step - loss: 1.6263 - accuracy: 0.8268 - val_loss: 1.6534 - val_accuracy: 0.7926\n",
      "Epoch 46/105\n",
      "12/12 [==============================] - 0s 2ms/step - loss: 1.5941 - accuracy: 0.8241 - val_loss: 1.6493 - val_accuracy: 0.7926\n",
      "Epoch 47/105\n",
      "12/12 [==============================] - 0s 2ms/step - loss: 1.5771 - accuracy: 0.8241 - val_loss: 1.6062 - val_accuracy: 0.7979\n",
      "Epoch 48/105\n",
      "12/12 [==============================] - 0s 2ms/step - loss: 1.5569 - accuracy: 0.8241 - val_loss: 1.5798 - val_accuracy: 0.8085\n",
      "Epoch 49/105\n",
      "12/12 [==============================] - 0s 2ms/step - loss: 1.5441 - accuracy: 0.8478 - val_loss: 1.5341 - val_accuracy: 0.8085\n",
      "Epoch 50/105\n",
      "12/12 [==============================] - 0s 2ms/step - loss: 1.5143 - accuracy: 0.8478 - val_loss: 1.5169 - val_accuracy: 0.8085\n",
      "Epoch 51/105\n",
      "12/12 [==============================] - 0s 3ms/step - loss: 1.5042 - accuracy: 0.8268 - val_loss: 1.5617 - val_accuracy: 0.7872\n",
      "Epoch 52/105\n",
      "12/12 [==============================] - 0s 2ms/step - loss: 1.5011 - accuracy: 0.8294 - val_loss: 1.4693 - val_accuracy: 0.8138\n",
      "Epoch 53/105\n",
      "12/12 [==============================] - 0s 2ms/step - loss: 1.4604 - accuracy: 0.8425 - val_loss: 1.4482 - val_accuracy: 0.8191\n",
      "Epoch 54/105\n",
      "12/12 [==============================] - 0s 2ms/step - loss: 1.4470 - accuracy: 0.8215 - val_loss: 1.4605 - val_accuracy: 0.8138\n",
      "Epoch 55/105\n",
      "12/12 [==============================] - 0s 2ms/step - loss: 1.4300 - accuracy: 0.8346 - val_loss: 1.3990 - val_accuracy: 0.8245\n",
      "Epoch 56/105\n",
      "12/12 [==============================] - 0s 2ms/step - loss: 1.4192 - accuracy: 0.8530 - val_loss: 1.3727 - val_accuracy: 0.8351\n",
      "Epoch 57/105\n",
      "12/12 [==============================] - 0s 2ms/step - loss: 1.3830 - accuracy: 0.8346 - val_loss: 1.4218 - val_accuracy: 0.7979\n",
      "Epoch 58/105\n",
      "12/12 [==============================] - 0s 3ms/step - loss: 1.3926 - accuracy: 0.8268 - val_loss: 1.3468 - val_accuracy: 0.8191\n"
     ]
    },
    {
     "name": "stdout",
     "output_type": "stream",
     "text": [
      "Epoch 59/105\n",
      "12/12 [==============================] - 0s 2ms/step - loss: 1.3567 - accuracy: 0.8294 - val_loss: 1.3339 - val_accuracy: 0.8191\n",
      "Epoch 60/105\n",
      "12/12 [==============================] - 0s 2ms/step - loss: 1.3750 - accuracy: 0.8215 - val_loss: 1.3166 - val_accuracy: 0.8191\n",
      "Epoch 61/105\n",
      "12/12 [==============================] - 0s 2ms/step - loss: 1.3161 - accuracy: 0.8478 - val_loss: 1.2606 - val_accuracy: 0.8617\n",
      "Epoch 62/105\n",
      "12/12 [==============================] - 0s 2ms/step - loss: 1.3179 - accuracy: 0.8451 - val_loss: 1.2657 - val_accuracy: 0.8245\n",
      "Epoch 63/105\n",
      "12/12 [==============================] - 0s 2ms/step - loss: 1.3074 - accuracy: 0.8241 - val_loss: 1.2753 - val_accuracy: 0.8245\n",
      "Epoch 64/105\n",
      "12/12 [==============================] - 0s 2ms/step - loss: 1.2648 - accuracy: 0.8320 - val_loss: 1.2044 - val_accuracy: 0.8511\n",
      "Epoch 65/105\n",
      "12/12 [==============================] - 0s 2ms/step - loss: 1.2597 - accuracy: 0.8478 - val_loss: 1.2062 - val_accuracy: 0.8351\n",
      "Epoch 66/105\n",
      "12/12 [==============================] - 0s 3ms/step - loss: 1.2733 - accuracy: 0.8268 - val_loss: 1.2162 - val_accuracy: 0.8245\n",
      "Epoch 67/105\n",
      "12/12 [==============================] - 0s 2ms/step - loss: 1.2598 - accuracy: 0.8425 - val_loss: 1.1457 - val_accuracy: 0.8723\n",
      "Epoch 68/105\n",
      "12/12 [==============================] - 0s 2ms/step - loss: 1.2144 - accuracy: 0.8399 - val_loss: 1.1607 - val_accuracy: 0.8351\n",
      "Epoch 69/105\n",
      "12/12 [==============================] - 0s 3ms/step - loss: 1.2129 - accuracy: 0.8136 - val_loss: 1.1988 - val_accuracy: 0.8245\n",
      "Epoch 70/105\n",
      "12/12 [==============================] - 0s 2ms/step - loss: 1.1808 - accuracy: 0.8346 - val_loss: 1.1218 - val_accuracy: 0.8351\n",
      "Epoch 71/105\n",
      "12/12 [==============================] - 0s 2ms/step - loss: 1.2010 - accuracy: 0.8609 - val_loss: 1.0777 - val_accuracy: 0.8723\n",
      "Epoch 72/105\n",
      "12/12 [==============================] - 0s 3ms/step - loss: 1.1573 - accuracy: 0.8373 - val_loss: 1.1077 - val_accuracy: 0.8245\n",
      "Epoch 73/105\n",
      "12/12 [==============================] - 0s 2ms/step - loss: 1.1296 - accuracy: 0.8399 - val_loss: 1.0707 - val_accuracy: 0.8564\n",
      "Epoch 74/105\n",
      "12/12 [==============================] - 0s 2ms/step - loss: 1.1377 - accuracy: 0.8425 - val_loss: 1.0387 - val_accuracy: 0.8617\n",
      "Epoch 75/105\n",
      "12/12 [==============================] - 0s 2ms/step - loss: 1.1268 - accuracy: 0.8530 - val_loss: 1.0253 - val_accuracy: 0.8617\n",
      "Epoch 76/105\n",
      "12/12 [==============================] - 0s 2ms/step - loss: 1.0986 - accuracy: 0.8399 - val_loss: 1.0271 - val_accuracy: 0.8564\n",
      "Epoch 77/105\n",
      "12/12 [==============================] - 0s 3ms/step - loss: 1.0833 - accuracy: 0.8451 - val_loss: 0.9988 - val_accuracy: 0.8617\n",
      "Epoch 78/105\n",
      "12/12 [==============================] - 0s 2ms/step - loss: 1.0877 - accuracy: 0.8425 - val_loss: 1.0017 - val_accuracy: 0.8564\n",
      "Epoch 79/105\n",
      "12/12 [==============================] - 0s 3ms/step - loss: 1.0759 - accuracy: 0.8661 - val_loss: 0.9616 - val_accuracy: 0.8830\n",
      "Epoch 80/105\n",
      "12/12 [==============================] - 0s 2ms/step - loss: 1.0939 - accuracy: 0.8478 - val_loss: 0.9839 - val_accuracy: 0.8457\n",
      "Epoch 81/105\n",
      "12/12 [==============================] - 0s 3ms/step - loss: 1.0319 - accuracy: 0.8556 - val_loss: 0.9366 - val_accuracy: 0.8777\n",
      "Epoch 82/105\n",
      "12/12 [==============================] - 0s 3ms/step - loss: 1.0353 - accuracy: 0.8661 - val_loss: 0.9262 - val_accuracy: 0.8777\n",
      "Epoch 83/105\n",
      "12/12 [==============================] - 0s 3ms/step - loss: 1.0315 - accuracy: 0.8530 - val_loss: 0.9218 - val_accuracy: 0.8617\n",
      "Epoch 84/105\n",
      "12/12 [==============================] - 0s 3ms/step - loss: 1.0296 - accuracy: 0.8635 - val_loss: 0.9023 - val_accuracy: 0.8883\n",
      "Epoch 85/105\n",
      "12/12 [==============================] - 0s 2ms/step - loss: 1.0020 - accuracy: 0.8530 - val_loss: 0.9210 - val_accuracy: 0.8457\n",
      "Epoch 86/105\n",
      "12/12 [==============================] - 0s 2ms/step - loss: 1.0016 - accuracy: 0.8425 - val_loss: 0.8822 - val_accuracy: 0.8617\n",
      "Epoch 87/105\n",
      "12/12 [==============================] - 0s 3ms/step - loss: 1.0005 - accuracy: 0.8714 - val_loss: 0.8689 - val_accuracy: 0.8830\n",
      "Epoch 88/105\n",
      "12/12 [==============================] - 0s 2ms/step - loss: 0.9983 - accuracy: 0.8583 - val_loss: 0.9137 - val_accuracy: 0.8457\n",
      "Epoch 89/105\n",
      "12/12 [==============================] - 0s 2ms/step - loss: 0.9727 - accuracy: 0.8688 - val_loss: 0.8466 - val_accuracy: 0.8989\n",
      "Epoch 90/105\n",
      "12/12 [==============================] - 0s 3ms/step - loss: 0.9898 - accuracy: 0.8635 - val_loss: 0.8352 - val_accuracy: 0.8883\n",
      "Epoch 91/105\n",
      "12/12 [==============================] - 0s 3ms/step - loss: 0.9805 - accuracy: 0.8504 - val_loss: 0.8353 - val_accuracy: 0.8564\n",
      "Epoch 92/105\n",
      "12/12 [==============================] - 0s 3ms/step - loss: 0.9644 - accuracy: 0.8740 - val_loss: 0.8136 - val_accuracy: 0.8989\n",
      "Epoch 93/105\n",
      "12/12 [==============================] - 0s 2ms/step - loss: 0.9370 - accuracy: 0.8740 - val_loss: 0.8105 - val_accuracy: 0.8617\n",
      "Epoch 94/105\n",
      "12/12 [==============================] - 0s 3ms/step - loss: 0.9387 - accuracy: 0.8793 - val_loss: 0.7953 - val_accuracy: 0.8723\n",
      "Epoch 95/105\n",
      "12/12 [==============================] - 0s 2ms/step - loss: 0.9597 - accuracy: 0.8556 - val_loss: 0.7842 - val_accuracy: 0.8777\n",
      "Epoch 96/105\n",
      "12/12 [==============================] - 0s 2ms/step - loss: 0.9516 - accuracy: 0.8819 - val_loss: 0.7770 - val_accuracy: 0.8989\n",
      "Epoch 97/105\n",
      "12/12 [==============================] - 0s 3ms/step - loss: 0.9125 - accuracy: 0.8793 - val_loss: 0.7784 - val_accuracy: 0.8511\n",
      "Epoch 98/105\n",
      "12/12 [==============================] - 0s 2ms/step - loss: 0.9041 - accuracy: 0.8793 - val_loss: 0.7545 - val_accuracy: 0.8936\n",
      "Epoch 99/105\n",
      "12/12 [==============================] - 0s 2ms/step - loss: 0.9015 - accuracy: 0.8793 - val_loss: 0.7469 - val_accuracy: 0.8830\n",
      "Epoch 100/105\n",
      "12/12 [==============================] - 0s 2ms/step - loss: 0.8918 - accuracy: 0.8740 - val_loss: 0.7379 - val_accuracy: 0.8830\n",
      "Epoch 101/105\n",
      "12/12 [==============================] - 0s 2ms/step - loss: 0.8906 - accuracy: 0.8871 - val_loss: 0.7264 - val_accuracy: 0.8936\n",
      "Epoch 102/105\n",
      "12/12 [==============================] - 0s 3ms/step - loss: 0.8766 - accuracy: 0.8845 - val_loss: 0.7180 - val_accuracy: 0.8989\n",
      "Epoch 103/105\n",
      "12/12 [==============================] - 0s 3ms/step - loss: 0.8757 - accuracy: 0.8924 - val_loss: 0.7100 - val_accuracy: 0.8989\n",
      "Epoch 104/105\n",
      "12/12 [==============================] - 0s 3ms/step - loss: 0.8685 - accuracy: 0.8898 - val_loss: 0.7028 - val_accuracy: 0.8777\n",
      "Epoch 105/105\n",
      "12/12 [==============================] - 0s 2ms/step - loss: 0.8870 - accuracy: 0.8845 - val_loss: 0.7030 - val_accuracy: 0.9043\n"
     ]
    }
   ],
   "source": [
    "r = model.fit(X_train, y_train, validation_data=(X_test, y_test), epochs=105)"
   ]
  },
  {
   "cell_type": "code",
   "execution_count": 11,
   "metadata": {},
   "outputs": [
    {
     "name": "stdout",
     "output_type": "stream",
     "text": [
      "12/12 [==============================] - 0s 616us/step - loss: 0.8621 - accuracy: 0.8845\n",
      "Train score: [0.8621043562889099, 0.8845144510269165]\n",
      "6/6 [==============================] - 0s 703us/step - loss: 0.7030 - accuracy: 0.9043\n",
      "Test score: [0.7030196785926819, 0.9042553305625916]\n"
     ]
    }
   ],
   "source": [
    "print(\"Train score:\", model.evaluate(X_train, y_train))\n",
    "print(\"Test score:\", model.evaluate(X_test, y_test))"
   ]
  },
  {
   "cell_type": "code",
   "execution_count": 12,
   "metadata": {},
   "outputs": [
    {
     "data": {
      "text/plain": [
       "<matplotlib.legend.Legend at 0x7f99f304e850>"
      ]
     },
     "execution_count": 12,
     "metadata": {},
     "output_type": "execute_result"
    },
    {
     "data": {
      "image/png": "[encoded data removed]",
      "text/plain": [
       "<Figure size 432x288 with 1 Axes>"
      ]
     },
     "metadata": {
      "needs_background": "light"
     },
     "output_type": "display_data"
    }
   ],
   "source": [
    "import matplotlib.pyplot as plt\n",
    "plt.plot(r.history['loss'], label='loss')\n",
    "plt.plot(r.history['val_loss'], label='val_loss')\n",
    "plt.legend()"
   ]
  },
  {
   "cell_type": "code",
   "execution_count": null,
   "metadata": {},
   "outputs": [],
   "source": []
  },
  {
   "cell_type": "code",
   "execution_count": null,
   "metadata": {},
   "outputs": [],
   "source": []
  }
 ],
 "metadata": {
  "kernelspec": {
   "display_name": "Python 3",
   "language": "python",
   "name": "python3"
  },
  "language_info": {
   "codemirror_mode": {
    "name": "ipython",
    "version": 3
   },
   "file_extension": ".py",
   "mimetype": "text/x-python",
   "name": "python",
   "nbconvert_exporter": "python",
   "pygments_lexer": "ipython3",
   "version": "3.8.5"
  }
 },
 "nbformat": 4,
 "nbformat_minor": 4
}
